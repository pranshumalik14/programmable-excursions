{
 "cells": [
  {
   "cell_type": "markdown",
   "metadata": {},
   "source": [
    "## Planar Arm Dynamics\n",
    "Begin"
   ]
  },
  {
   "cell_type": "code",
   "execution_count": null,
   "metadata": {},
   "outputs": [],
   "source": [
    "import math\n",
    "import numpy as np\n",
    "\n",
    "# 2 and 3 link dynamics: shoulder, elbow, and optionally the wrist.\n",
    "# by default the wrist stays fixed/clamped with the elbow (i.e. not a freely moving joint)\n",
    "# I need to be able to artificially clamp and see the output torque as well..."
   ]
  },
  {
   "cell_type": "markdown",
   "metadata": {},
   "source": [
    "## Arm Dynamics under Gravity\n",
    "General"
   ]
  },
  {
   "cell_type": "code",
   "execution_count": null,
   "metadata": {},
   "outputs": [],
   "source": [
    "# code"
   ]
  },
  {
   "cell_type": "markdown",
   "metadata": {},
   "source": [
    "## Arm Dynamics under Gravity and Constraints\n",
    "Complete limb dynamics"
   ]
  }
 ],
 "metadata": {
  "kernelspec": {
   "display_name": "Python 3",
   "language": "python",
   "name": "python3"
  },
  "language_info": {
   "name": "python",
   "version": "3.13.undefined"
  }
 },
 "nbformat": 4,
 "nbformat_minor": 2
}
